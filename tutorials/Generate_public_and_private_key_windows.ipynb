{
 "cells": [
  {
   "cell_type": "markdown",
   "metadata": {},
   "source": [
    "# This is for all students who will be using a windows machine. Please follow the instructions below before day 1 so I can get your account properly setup with TSCC\n"
   ]
  },
  {
   "attachments": {},
   "cell_type": "markdown",
   "metadata": {},
   "source": [
    "Using the Ubuntu Subsystem on Windows 10 for TSCC\n",
    "\n",
    "Adapted from this guide: https://www.betteridiot.tech/blog/pop/2019/9/updated-windows-10-subsystem-for-linux-wsl-for-python-developers"
   ]
  },
  {
   "cell_type": "markdown",
   "metadata": {},
   "source": [
    "### Step 1: Set up The Windows Subsystem for Linux\n",
    "\n",
    "Open the Run interface in Windows: (Windows Key + R)\n",
    "\n",
    "Type in winver and hit enter\n",
    "\n",
    "If the version number is 1709 or higher, keep going. If not, email Jon at jonschmok@gmail.com\n",
    "\n",
    "Press the windows key, and type in “Turn Windows features on or off”. Select this option\n",
    "\n",
    "Scroll to Windows Subsystem for Linux, and make sure it’s checked\n",
    "\n",
    "If not, check the box, click ok, and wait for the following prompt to finish\n",
    "\n",
    "Click on restart now when the option is presented\n"
   ]
  },
  {
   "attachments": {},
   "cell_type": "markdown",
   "metadata": {},
   "source": [
    "### Step 2: Installing Ubuntu\n",
    "\n",
    "Press the windows key, and search for microsoft store\n",
    "\n",
    "Within the microsoft store, search for Ubuntu\n",
    "\n",
    "Press Get and wait for it to install\n",
    "\n",
    "Click Launch and wait for it to install fully\n",
    "\n",
    "Important: when Ubuntu asks for a Username and password, close the window\n"
   ]
  },
  {
   "cell_type": "markdown",
   "metadata": {},
   "source": [
    "### Step 3: Setting up the terminal\n",
    "\n",
    "Download and install ConEmu: https://conemu.github.io - Select the installer and run it on your PC.\n",
    "        \n",
    "While installing, select the x64 option. Open ConEmu\n",
    "\n",
    "In the configuration window, under “Choose your startup task or even a shell with arguments”, type in {Bash::bash}\n",
    "Click okay.\n",
    "\n",
    "Once ConEmu opens, go to the settings by selecting the hamburger menu (three stacked bars) in the top right, and clicking settings.\n",
    "\n",
    "Under Startup>Tasks, click on “7   {Bash::bash}”\n",
    "\n",
    "Paste the following in the box under task parameters, with %USERNAME% replaced with the username of your windows account (What you see when you sign into windows).\n",
    "\n",
    "/dir C:\\Users\\%USERNAME%\\AppData\\Local\\Packages\\CanonicalGroupLimited.UbuntuonWindows_79rhkp1fndgsc\\LocalState\\rootfs\\root\n",
    "    \n",
    "Save settings and restart your computer.\n",
    "\n",
    "To make sure things work, open ConEmu and type in “ls”. If things work, you will see the following directories: “bin boot dev etc home init lib lib64 media mnt………”\n",
    "\n",
    "Your computer is now set up with a Linux terminal that will open every time you open ConEmu! Feel free to use Linux/Mac instructions for all other tutorials.\n",
    "Now we can set up a private and public key:\n",
    "    \n"
   ]
  },
  {
   "cell_type": "markdown",
   "metadata": {},
   "source": [
    "## Setting up public and private key"
   ]
  },
  {
   "cell_type": "markdown",
   "metadata": {},
   "source": [
    "### 1) Open a terminal by opening ConEmu"
   ]
  },
  {
   "cell_type": "markdown",
   "metadata": {},
   "source": [
    "### 2) Type the following command exactly as it appears below:"
   ]
  },
  {
   "cell_type": "markdown",
   "metadata": {},
   "source": [
    "ssh-keygen -t rsa\n",
    "\n",
    "Press enter to continue\n",
    "\n",
    "Enter a passphrase (the cursor won't move), it will ask you to do this twice to make sure there aren't any typos. REMEMBER this passphrase, this is what you will use to logon to TSCC. Do not include the * character in the passphrase.\n",
    "\n",
    "You will be prompted with a location to save the key. Press Enter to accept the default setting (it should look something like /Users/emily/.ssh/id_rsa except the /Users/emily/ part will be your default home directory.)\n"
   ]
  },
  {
   "cell_type": "markdown",
   "metadata": {},
   "source": [
    "### 3) Use the following commands to copy your public key:"
   ]
  },
  {
   "cell_type": "markdown",
   "metadata": {},
   "source": [
    "cat ~/.ssh/id_rsa.pub\n",
    "\n",
    "Something like this should pop up on your screen:\n",
    "ssh-rsa AAAAB3NzaC1yc2EAAAADAQABAAABAQC76Ew4UJTblrl2c8RkCtVOKS2FDVzMm51fueE+SrIQxiPbeHy/64tK/TfUYGUie6Eq4sr5w0i6LoMXGNKlfwX8O3nym/coitxTRXcOalGb/CbPIWDN9nvlCa+JB/oYRMTmff/Is6VJur+Ir2eJZnHiB9BlmwjOoKusaqzXesjx0pym7QEEBTpCVF07lj5rkvAF1K/ia4tnkHRlnc7JDcAvOwQvkvL2swOrYYJhTGqThCwkEebEqEuDhC7UcX1itkaOd5KmCasGVHfgLkqp+QT5pEdaSzSm/iho0VvkNpPd+B0H5179/ZkUyN7jfSda0C54MAG+Hek8CNEkxyjpvS/R margaret@Margarets-MacBook-Pro.local\n",
    "\n",
    "Highlight everything in your terminal window and copy it with control c.\n",
    "\n"
   ]
  },
  {
   "cell_type": "markdown",
   "metadata": {},
   "source": [
    "### 4) Paste what you have copied into the text of an email to me."
   ]
  },
  {
   "cell_type": "markdown",
   "metadata": {},
   "source": [
    "mcburns@ucsd.edu"
   ]
  },
  {
   "cell_type": "markdown",
   "metadata": {},
   "source": [
    "### 5) I will send you confirmation that I received your email."
   ]
  },
  {
   "cell_type": "markdown",
   "metadata": {},
   "source": [
    "I will respond with your tscc username. Log on to tscc!\n",
    "\n",
    "In your terminal window, type:\n",
    "    \n",
    "ssh ucsd-train##@tscc-login.sdsc.edu\n",
    "\n",
    "Remember to replace the ## with your specific number. Press enter to get the prompt to enter your passphrase. You might get a security warning the first time you login. Just select \"Yes\" to move past it. Once you have logged on, there will be a bunch of text on your screen including \"Welcome to TSCC\"\n",
    "\n",
    "To get out of TSCC, type \"exit\" and press enter.\n"
   ]
  },
  {
   "cell_type": "code",
   "execution_count": null,
   "metadata": {},
   "outputs": [],
   "source": []
  }
 ],
 "metadata": {
  "kernelspec": {
   "display_name": "bootcamp",
   "language": "python",
   "name": "bootcamp"
  },
  "language_info": {
   "codemirror_mode": {
    "name": "ipython",
    "version": 3
   },
   "file_extension": ".py",
   "mimetype": "text/x-python",
   "name": "python",
   "nbconvert_exporter": "python",
   "pygments_lexer": "ipython3",
   "version": "3.7.3"
  }
 },
 "nbformat": 4,
 "nbformat_minor": 2
}
