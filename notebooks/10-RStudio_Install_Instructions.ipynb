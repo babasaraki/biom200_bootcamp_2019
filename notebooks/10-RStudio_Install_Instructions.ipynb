{
 "cells": [
  {
   "cell_type": "markdown",
   "metadata": {},
   "source": [
    "## First let's install R Studio on your local computer"
   ]
  },
  {
   "cell_type": "markdown",
   "metadata": {},
   "source": [
    "Find the relevant installer [here](https://rstudio.com/products/rstudio/download/#download) and follow the steps to download"
   ]
  },
  {
   "cell_type": "markdown",
   "metadata": {},
   "source": [
    "Open up R Studio and create a new project name it \"DESeq2\""
   ]
  },
  {
   "cell_type": "markdown",
   "metadata": {},
   "source": [
    "## Copy over your results from [notebook 08](https://github.com/macatbu/biom200_bootcamp_2019/blob/master/notebooks/08-Python_demo_make_counts_and_conditions_matrix.ipynb)"
   ]
  },
  {
   "cell_type": "markdown",
   "metadata": {},
   "source": [
    "### Windows"
   ]
  },
  {
   "cell_type": "markdown",
   "metadata": {},
   "source": [
    "    scp ucsd-train##@tscc-login.sdsc.edu:~/bms_2019/rna_seq/analysis/feature_counts/*.csv /mnt/c/users/#YOURWINDOWSUSERNAME#/Desktop/"
   ]
  },
  {
   "cell_type": "markdown",
   "metadata": {},
   "source": [
    "### Mac"
   ]
  },
  {
   "cell_type": "markdown",
   "metadata": {},
   "source": [
    "    scp ucsd-train44@tscc-login.sdsc.edu:/home/ucsd-train44/bms_2019/rna_seq/analysis/feature_counts/*.csv ~/Desktop/"
   ]
  },
  {
   "cell_type": "markdown",
   "metadata": {},
   "source": [
    "## Move the files you downloaded into your DESeq2 RStudio project folder"
   ]
  },
  {
   "cell_type": "markdown",
   "metadata": {},
   "source": [
    "Open up the DESeq2 project in RStudio on the lower right quadrent select the blue gear and open \"Show Folder in New Window\" "
   ]
  },
  {
   "cell_type": "markdown",
   "metadata": {},
   "source": [
    "Drag the files that you downloaded \"Mouse_LPS_clean_counts_with_length.csv\" \"Mouse_LPS_conditions_for_deseq2.csv\" \"Mouse_LPS_counts_for_deseq2.csv \" into the DESeq2 project folder, you will now be able to access it. "
   ]
  },
  {
   "cell_type": "markdown",
   "metadata": {},
   "source": [
    "Also move in the R Markdown file with DESeq2 analysis "
   ]
  },
  {
   "cell_type": "markdown",
   "metadata": {},
   "source": [
    "Open up the R Markdown file and run it! "
   ]
  },
  {
   "cell_type": "code",
   "execution_count": null,
   "metadata": {},
   "outputs": [],
   "source": []
  }
 ],
 "metadata": {
  "kernelspec": {
   "display_name": "Python 3",
   "language": "python",
   "name": "python3"
  },
  "language_info": {
   "codemirror_mode": {
    "name": "ipython",
    "version": 3
   },
   "file_extension": ".py",
   "mimetype": "text/x-python",
   "name": "python",
   "nbconvert_exporter": "python",
   "pygments_lexer": "ipython3",
   "version": "3.7.3"
  }
 },
 "nbformat": 4,
 "nbformat_minor": 2
}
