{
 "cells": [
  {
   "cell_type": "markdown",
   "metadata": {},
   "source": [
    "This notebook describes how to download software you will use in the bootcamp. Please download these before class so that we can get started right away"
   ]
  },
  {
   "cell_type": "markdown",
   "metadata": {},
   "source": [
    "### 1) Login to TSCC"
   ]
  },
  {
   "cell_type": "markdown",
   "metadata": {},
   "source": [
    "In your terminal window, type:\n",
    "\n",
    "ssh ucsd-train##@tscc-login.sdsc.edu\n",
    "Make sure you replace the \"#\" with the specific number you have been assigned. You should have already received a number assignment from me after you sent me the email with a copy of your public key."
   ]
  },
  {
   "cell_type": "markdown",
   "metadata": {},
   "source": [
    "### 2) Download Anaconda"
   ]
  },
  {
   "cell_type": "markdown",
   "metadata": {},
   "source": [
    "Let's download Anaconda using the command wget (web-get). TSCC runs on linux, so we will download the python 3.7 linux version (make sure to switch to the linux tab on the downloads page). Find the link that says \"Anaconda3-2019.03-Linux-x86_64.sh\"; right click on the link and choose \"Copy Link Address\". Move to your home directory on TSCC and paste the link address after a wget command. (wget = web get).\n",
    "\n",
    "cd ~\n",
    "\n",
    "wget https://repo.continuum.io/archive/Anaconda3-2019.03-Linux-x86_64.sh\n"
   ]
  },
  {
   "cell_type": "markdown",
   "metadata": {},
   "source": [
    "To install anaconda, run the shell script with bash (this will take some time). It will ask you a bunch of questions, and use the defaults for all of them (press enter for all). Remember tabs to avoid typos!\n",
    "\n",
    "bash Anaconda3-2019.03-Linux-x86_64.sh"
   ]
  },
  {
   "cell_type": "markdown",
   "metadata": {},
   "source": [
    "Start pressing ENTER through all the license agreements. Type 'yes' when it asks if you agree to everything.\n",
    "\n",
    "One of the important questions it will ask during installation is if you want to add this to the PATH variable in your ~/.bashrc. You will get a prompt that looks like this:\n",
    "\n",
    "Anaconda3 will now be installed into this location:\n",
    "/home/ucsd-train01/anaconda3\n",
    "\n",
    "  - Press ENTER to confirm the location\n",
    "  - Press CTRL-C to abort the installation\n",
    "  - Or specify a different location below\n",
    "\n",
    "[/home/ucsd-train01/anaconda3] >>>\n",
    "Press ENTER to confirm the location. Then WAIT! It is downloading.\n",
    "\n"
   ]
  },
  {
   "cell_type": "markdown",
   "metadata": {},
   "source": [
    "At the end of the installation you might get this warning message:\n",
    "\n",
    "WARNING:\n",
    "You currently have a PYTHONPATH environment variable set. This may cause\n",
    "unexpected behavior when running the Python interpreter in Anaconda3.\n",
    "For best results, please verify that your PYTHONPATH only points to\n",
    "directories of packages that are compatible with the Python interpreter\n",
    "in Anaconda3: /home/ucsd-train01/anaconda3\n",
    "Do you wish the installer to prepend the Anaconda3 install location\n",
    "to PATH in your /home/ucsd-train01/.bashrc ? [yes|no]\n",
    "Type yes to add the path."
   ]
  },
  {
   "cell_type": "code",
   "execution_count": null,
   "metadata": {},
   "outputs": [],
   "source": []
  }
 ],
 "metadata": {
  "kernelspec": {
   "display_name": "bootcamp",
   "language": "python",
   "name": "bootcamp"
  },
  "language_info": {
   "codemirror_mode": {
    "name": "ipython",
    "version": 3
   },
   "file_extension": ".py",
   "mimetype": "text/x-python",
   "name": "python",
   "nbconvert_exporter": "python",
   "pygments_lexer": "ipython3",
   "version": "3.7.3"
  }
 },
 "nbformat": 4,
 "nbformat_minor": 2
}
