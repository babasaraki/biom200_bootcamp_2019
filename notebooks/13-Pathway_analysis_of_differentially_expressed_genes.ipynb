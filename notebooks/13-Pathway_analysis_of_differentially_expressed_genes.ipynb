{
 "cells": [
  {
   "cell_type": "markdown",
   "metadata": {},
   "source": [
    "## In this notebook we will create gene lists from our DESeq2 data to do pathway analysis on the genes we found are upregulated or downregulated"
   ]
  },
  {
   "cell_type": "markdown",
   "metadata": {},
   "source": [
    "We will use Python to manipulate our DESeq2 dataframe to save lists of genes"
   ]
  },
  {
   "cell_type": "markdown",
   "metadata": {},
   "source": [
    "Import the packages we will need "
   ]
  },
  {
   "cell_type": "code",
   "execution_count": 1,
   "metadata": {},
   "outputs": [],
   "source": [
    "import pandas as pd"
   ]
  },
  {
   "cell_type": "markdown",
   "metadata": {},
   "source": [
    "Here we load in a list of gene names from the gtf files we used for the species we are studying. We will use this to convert ENSEMBL IDs to gene names below"
   ]
  },
  {
   "cell_type": "code",
   "execution_count": 2,
   "metadata": {},
   "outputs": [
    {
     "name": "stderr",
     "output_type": "stream",
     "text": [
      "/home/mcburns/anaconda3/lib/python3.7/site-packages/ipykernel_launcher.py:3: FutureWarning: read_table is deprecated, use read_csv instead, passing sep='\\t'.\n",
      "  This is separate from the ipykernel package so we can avoid doing imports until\n"
     ]
    }
   ],
   "source": [
    "# load in ensemble to gene name dictionary (mm10)\n",
    "gene_map = '/oasis/tscc/scratch/biom200/bms_2019/annotations/mm10/gene_names_mm10.txt'\n",
    "gene = pd.read_table(gene_map)\n",
    "geneDict = dict(zip(gene.gene_id, gene.gene_name))\n"
   ]
  },
  {
   "cell_type": "markdown",
   "metadata": {},
   "source": [
    "Here we load in the DESeq2 results that we want to do pathway analysis on"
   ]
  },
  {
   "cell_type": "code",
   "execution_count": 3,
   "metadata": {},
   "outputs": [],
   "source": [
    "# load in deseq results\n",
    "res_file = '/oasis/tscc/scratch/biom200/bms_2019/rna_seq/analysis/deseq2/dendritic_differential_expression.csv'\n",
    "res = pd.read_csv(res_file, index_col=0)\n",
    "res_filt = res.dropna() # drop rows that contain NaN\n",
    "res_filt = res_filt.loc[~pd.isnull(res_filt.index)] # drop indexes that contain NaN\n",
    "res_filt = res_filt.sort_values('pvalue') #sort by the p-value columns\n",
    "res_filt.index = res_filt.index.to_series().map(geneDict) # use the dictionary to convert ensemble ids to gene names\n"
   ]
  },
  {
   "cell_type": "code",
   "execution_count": 4,
   "metadata": {},
   "outputs": [
    {
     "data": {
      "text/html": [
       "<div>\n",
       "<style scoped>\n",
       "    .dataframe tbody tr th:only-of-type {\n",
       "        vertical-align: middle;\n",
       "    }\n",
       "\n",
       "    .dataframe tbody tr th {\n",
       "        vertical-align: top;\n",
       "    }\n",
       "\n",
       "    .dataframe thead th {\n",
       "        text-align: right;\n",
       "    }\n",
       "</style>\n",
       "<table border=\"1\" class=\"dataframe\">\n",
       "  <thead>\n",
       "    <tr style=\"text-align: right;\">\n",
       "      <th></th>\n",
       "      <th>baseMean</th>\n",
       "      <th>log2FoldChange</th>\n",
       "      <th>lfcSE</th>\n",
       "      <th>stat</th>\n",
       "      <th>pvalue</th>\n",
       "      <th>padj</th>\n",
       "    </tr>\n",
       "  </thead>\n",
       "  <tbody>\n",
       "    <tr>\n",
       "      <th>Il6</th>\n",
       "      <td>19711.706232</td>\n",
       "      <td>10.505651</td>\n",
       "      <td>0.378610</td>\n",
       "      <td>27.747935</td>\n",
       "      <td>1.845403e-169</td>\n",
       "      <td>3.158592e-165</td>\n",
       "    </tr>\n",
       "    <tr>\n",
       "      <th>Tnfsf15</th>\n",
       "      <td>53485.655621</td>\n",
       "      <td>10.347716</td>\n",
       "      <td>0.374308</td>\n",
       "      <td>27.644937</td>\n",
       "      <td>3.210699e-168</td>\n",
       "      <td>2.747716e-164</td>\n",
       "    </tr>\n",
       "    <tr>\n",
       "      <th>Acod1</th>\n",
       "      <td>96490.400051</td>\n",
       "      <td>8.124052</td>\n",
       "      <td>0.300640</td>\n",
       "      <td>27.022527</td>\n",
       "      <td>8.035562e-161</td>\n",
       "      <td>4.584556e-157</td>\n",
       "    </tr>\n",
       "    <tr>\n",
       "      <th>Oasl1</th>\n",
       "      <td>15297.507748</td>\n",
       "      <td>9.690110</td>\n",
       "      <td>0.358750</td>\n",
       "      <td>27.010784</td>\n",
       "      <td>1.104066e-160</td>\n",
       "      <td>4.724300e-157</td>\n",
       "    </tr>\n",
       "    <tr>\n",
       "      <th>Cxcl10</th>\n",
       "      <td>64270.241769</td>\n",
       "      <td>11.163455</td>\n",
       "      <td>0.420825</td>\n",
       "      <td>26.527526</td>\n",
       "      <td>4.666834e-155</td>\n",
       "      <td>1.597551e-151</td>\n",
       "    </tr>\n",
       "  </tbody>\n",
       "</table>\n",
       "</div>"
      ],
      "text/plain": [
       "             baseMean  log2FoldChange     lfcSE       stat         pvalue  \\\n",
       "Il6      19711.706232       10.505651  0.378610  27.747935  1.845403e-169   \n",
       "Tnfsf15  53485.655621       10.347716  0.374308  27.644937  3.210699e-168   \n",
       "Acod1    96490.400051        8.124052  0.300640  27.022527  8.035562e-161   \n",
       "Oasl1    15297.507748        9.690110  0.358750  27.010784  1.104066e-160   \n",
       "Cxcl10   64270.241769       11.163455  0.420825  26.527526  4.666834e-155   \n",
       "\n",
       "                  padj  \n",
       "Il6      3.158592e-165  \n",
       "Tnfsf15  2.747716e-164  \n",
       "Acod1    4.584556e-157  \n",
       "Oasl1    4.724300e-157  \n",
       "Cxcl10   1.597551e-151  "
      ]
     },
     "execution_count": 4,
     "metadata": {},
     "output_type": "execute_result"
    }
   ],
   "source": [
    "res_filt.head()"
   ]
  },
  {
   "cell_type": "markdown",
   "metadata": {},
   "source": [
    "Here we will filter our DESeq2 results for significance and save the results in a csv file with the **gene names** this will be useful for uploading to different pathway analysis datasbases"
   ]
  },
  {
   "cell_type": "code",
   "execution_count": 5,
   "metadata": {},
   "outputs": [],
   "source": [
    "res_filt_upregulated = res_filt[(res_filt['log2FoldChange'] > 2) & (res_filt['pvalue'] < .05)]"
   ]
  },
  {
   "cell_type": "code",
   "execution_count": 6,
   "metadata": {},
   "outputs": [],
   "source": [
    "mouse_upregulated = pd.DataFrame(res_filt_upregulated.index)"
   ]
  },
  {
   "cell_type": "code",
   "execution_count": 7,
   "metadata": {},
   "outputs": [],
   "source": [
    "mouse_upregulated.to_csv('~/projects/mouse_LPS/mouse_LPS_upregulated_genes.csv',index = 0)"
   ]
  },
  {
   "cell_type": "code",
   "execution_count": 8,
   "metadata": {},
   "outputs": [],
   "source": [
    "res_filt_downregulated = res_filt[(res_filt['log2FoldChange'] < -2) & (res_filt['pvalue'] < .05)]"
   ]
  },
  {
   "cell_type": "code",
   "execution_count": 9,
   "metadata": {},
   "outputs": [],
   "source": [
    "mouse_downregulated = pd.DataFrame(res_filt_downregulated.index)"
   ]
  },
  {
   "cell_type": "code",
   "execution_count": 10,
   "metadata": {},
   "outputs": [],
   "source": [
    "mouse_downregulated.to_csv('~/projects/mouse_LPS/mouse_LPS_downregulated_genes.csv',index = 0)"
   ]
  },
  {
   "cell_type": "markdown",
   "metadata": {},
   "source": [
    "## GO Term Analysis"
   ]
  },
  {
   "cell_type": "markdown",
   "metadata": {},
   "source": [
    "1) Download csv files above.\n",
    "\n",
    "2) Go to [PANTHER](http://pantherdb.org/) and upload list of gene IDs, select the relevant species and click *\"Functional classification viewed in graphic charts\"*.\n",
    "\n",
    "3) Check out your results! Notice you can flip between different types of ontologies such as Molecular Function/ Biological Process/ Cellular Component/ Protein Class/ Pathway. \n",
    "\n",
    "You can also click on these categories and see the GO terms listed below that category. Can you draw any general conclusions about the results of the experiment?\n"
   ]
  },
  {
   "cell_type": "markdown",
   "metadata": {},
   "source": [
    "Other GO websites [DAVID](https://david.ncifcrf.gov/), [Oncomine](www.oncomine.org) for cancer  datasets, [Metascape](http://metascape.org/gp/index.html#/main/step1), and [GOrilla](http://cbl-gorilla.cs.technion.ac.il/)"
   ]
  },
  {
   "cell_type": "markdown",
   "metadata": {},
   "source": [
    "## KEGG Pathway Analysis"
   ]
  },
  {
   "cell_type": "markdown",
   "metadata": {},
   "source": [
    "1) Go to [KEGG Mapper](https://www.genome.jp/kegg/tool/map_pathway2.html) and upload list of gene names.\n",
    "\n",
    "2) List of pathways that are implicated will appear. Can click on the mmu#### that you are interested in. It will show pathways with the proteins that are on your list are colored. \n",
    "\n",
    "3) Play around and see if you can find pathways that are deeply affected in your treated conditions. What does this tell us about biology?\n"
   ]
  },
  {
   "cell_type": "markdown",
   "metadata": {},
   "source": [
    "## Reactome"
   ]
  },
  {
   "cell_type": "markdown",
   "metadata": {},
   "source": [
    "1) Go to [Reactome.org](https://reactome.org/PathwayBrowser/#TOOL=AT) and once again upload your gene list.\n",
    "\n",
    "2) Explore!\n",
    "\n"
   ]
  }
 ],
 "metadata": {
  "kernelspec": {
   "display_name": "Python 3",
   "language": "python",
   "name": "python3"
  },
  "language_info": {
   "codemirror_mode": {
    "name": "ipython",
    "version": 3
   },
   "file_extension": ".py",
   "mimetype": "text/x-python",
   "name": "python",
   "nbconvert_exporter": "python",
   "pygments_lexer": "ipython3",
   "version": "3.7.3"
  }
 },
 "nbformat": 4,
 "nbformat_minor": 2
}
