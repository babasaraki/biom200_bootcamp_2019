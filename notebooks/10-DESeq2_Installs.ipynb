{
 "cells": [
  {
   "cell_type": "markdown",
   "metadata": {},
   "source": [
    "## We will now use DESeq2 for differential expression analysis##"
   ]
  },
  {
   "cell_type": "markdown",
   "metadata": {},
   "source": [
    "You will first need to install DESeq2, which is a program that runs in R. So we need to install it within R. We will begin by first creating a separate environment in anaconda Here, we will make a number of installations separate from the packages that we installed previously. It is generally a good idea to create separate environments for each of your tasks to prevent \"overwriting\" different versions of certain packages. Let's make an environment for our DESeq2 installs:"
   ]
  },
  {
   "cell_type": "markdown",
   "metadata": {},
   "source": [
    "### In class installs "
   ]
  },
  {
   "cell_type": "markdown",
   "metadata": {},
   "source": [
    "    conda create -y -n deseq2\n",
    "    \n",
    "This will essentially ask anaconda to make a new environment named (-n) deseq2. We can then activate this environment using:\n",
    "\n",
    "    conda activate deseq2\n",
    "    \n",
    "We should see (deseq2) in the left-most portion of the screen now. This means that we have successfully entered our new environment."
   ]
  },
  {
   "cell_type": "markdown",
   "metadata": {},
   "source": [
    "Now, let's make some installs:\n",
    "\n",
    "    conda install -c r r-base\n",
    "\n",
    "    conda install -c r r-irkernel\n",
    "\n",
    "Answer yes to all updates. Once we have made these installs, let's open R on the command line by typing:\n",
    "\n",
    "    R\n",
    "    \n",
    "To run R through Jupyter, we will need to create an R kernel, which will allow us to use the R installs that we made in this enivoronment. To do so, we will be using IRkernel, which we installed using anaconda. We will type the following command while in R:\n",
    "\n",
    "    \n",
    "    IRkernel::installspec(displayname=\"deseq2\")\n",
    "    \n",
    "    install.packages(\"gplots\")\n",
    "    \n",
    "    \n",
    "When it asks you for a CRAN mirror enter 57\n",
    "\n",
    "Once you have done this, we can exit R:\n",
    "\n",
    "\n",
    "    q()\n",
    "    \n",
    "    Save workspace image? [y/n/c]: n\n",
    "    \n",
    "    \n",
    "And now, on the command-line we can deactivate this environment:\n",
    "\n",
    "\n",
    "    conda deactivate \n",
    "    \n",
    "    \n",
    "Now, when we launch our Jupyter notebooks, we will be able to open a notebook with a \"deseq2\" kernel. This is an R kernel that has all of our specs in place to run DESeq2 analysis."
   ]
  },
  {
   "cell_type": "markdown",
   "metadata": {
    "collapsed": true
   },
   "source": [
    "### Please follow these instructions at home, the download will take a while"
   ]
  },
  {
   "cell_type": "markdown",
   "metadata": {},
   "source": [
    "Once again, let's activate our new deseq2 environment"
   ]
  },
  {
   "cell_type": "markdown",
   "metadata": {},
   "source": [
    "    conda activate deseq2"
   ]
  },
  {
   "cell_type": "markdown",
   "metadata": {},
   "source": [
    "Then let's open up R by typing"
   ]
  },
  {
   "cell_type": "markdown",
   "metadata": {},
   "source": [
    "    R"
   ]
  },
  {
   "cell_type": "markdown",
   "metadata": {},
   "source": [
    "Then download DESeq2 using the following two commands, wait for the first to finish before starting the second:"
   ]
  },
  {
   "cell_type": "markdown",
   "metadata": {},
   "source": [
    "    if (!requireNamespace(\"BiocManager\", quietly = TRUE))\n",
    "    install.packages(\"BiocManager\")"
   ]
  },
  {
   "cell_type": "markdown",
   "metadata": {},
   "source": [
    "    BiocManager::install(\"DESeq2\")"
   ]
  },
  {
   "cell_type": "markdown",
   "metadata": {},
   "source": [
    "The download will take forever (sorry!) but leave your computer open while it installs"
   ]
  },
  {
   "cell_type": "markdown",
   "metadata": {},
   "source": [
    "One it finally finishes you can check that it worked by using:"
   ]
  },
  {
   "cell_type": "markdown",
   "metadata": {},
   "source": [
    "    library(\"DESeq2\")"
   ]
  },
  {
   "cell_type": "markdown",
   "metadata": {},
   "source": [
    "A few things will pop up, ignore them. If you get the message \"Error in library(\"DESeq2\"): there is no package called ‘DESeq2’\", then email us and we can try to troubleshoot."
   ]
  },
  {
   "cell_type": "markdown",
   "metadata": {},
   "source": [
    "Then quit R using "
   ]
  },
  {
   "cell_type": "markdown",
   "metadata": {},
   "source": [
    "    q()"
   ]
  },
  {
   "cell_type": "markdown",
   "metadata": {},
   "source": [
    "And deactivate the environment using "
   ]
  },
  {
   "cell_type": "markdown",
   "metadata": {},
   "source": [
    "    conda deactivate"
   ]
  },
  {
   "cell_type": "markdown",
   "metadata": {},
   "source": [
    "### Running DESeq2 in a Jupyter Notebook"
   ]
  },
  {
   "cell_type": "markdown",
   "metadata": {},
   "source": [
    "Launch Jupyter Notebooks following this same [tutorial](https://github.com/macatbu/biom200_bootcamp_2019/blob/master/tutorials/Opening_Jupyter_Notebooks.ipynb) "
   ]
  },
  {
   "cell_type": "markdown",
   "metadata": {},
   "source": [
    "Start a new notebook, select the kernel with name \"deseq2\""
   ]
  },
  {
   "cell_type": "markdown",
   "metadata": {},
   "source": [
    "The notebook for DESEq2 analysis is found [here](https://github.com/macatbu/biom200_bootcamp_2019/blob/master/notebooks/10-DESeq2_analysis.ipynb)"
   ]
  }
 ],
 "metadata": {
  "kernelspec": {
   "display_name": "barnacle-julia",
   "language": "python",
   "name": "python2"
  },
  "language_info": {
   "codemirror_mode": {
    "name": "ipython",
    "version": 2
   },
   "file_extension": ".py",
   "mimetype": "text/x-python",
   "name": "python",
   "nbconvert_exporter": "python",
   "pygments_lexer": "ipython2",
   "version": "2.7.15"
  }
 },
 "nbformat": 4,
 "nbformat_minor": 2
}
